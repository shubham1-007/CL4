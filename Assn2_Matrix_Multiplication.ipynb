{
 "cells": [
  {
   "cell_type": "code",
   "execution_count": 1,
   "id": "d41a6356-fcde-4941-975a-3d1b45ec2cb4",
   "metadata": {},
   "outputs": [],
   "source": [
    "import findspark\n",
    "findspark.init()\n",
    "import pyspark\n",
    "from pyspark.sql import SparkSession"
   ]
  },
  {
   "cell_type": "code",
   "execution_count": 2,
   "id": "7679de48-9513-41e8-ab1a-01ffcb3752e0",
   "metadata": {},
   "outputs": [
    {
     "name": "stdout",
     "output_type": "stream",
     "text": [
      "+---+---+------+\n",
      "|row|col|result|\n",
      "+---+---+------+\n",
      "|  1|  1|    73|\n",
      "|  0|  1|    41|\n",
      "|  0|  0|    36|\n",
      "|  1|  0|    64|\n",
      "+---+---+------+\n",
      "\n"
     ]
    }
   ],
   "source": [
    "# Create a SparkSession\n",
    "spark = SparkSession.builder \\\n",
    "    .appName(\"MatrixMultiplication\") \\\n",
    "    .getOrCreate()\n",
    "\n",
    "# Sample matrices\n",
    "matrix1 = [\n",
    "    (0, 0, 2),\n",
    "    (0, 1, 3),\n",
    "    (1, 0, 4),\n",
    "    (1, 1, 5)\n",
    "]\n",
    "\n",
    "matrix2 = [\n",
    "    (0, 0, 6),\n",
    "    (0, 1, 7),\n",
    "    (1, 0, 8),\n",
    "    (1, 1, 9)\n",
    "]\n",
    "\n",
    "# Create RDDs from the matrices\n",
    "matrix1_rdd = spark.sparkContext.parallelize(matrix1)\n",
    "matrix2_rdd = spark.sparkContext.parallelize(matrix2)\n",
    "\n",
    "# Perform matrix multiplication using map-reduce\n",
    "result_rdd = matrix1_rdd.flatMap(lambda x: [((x[0], y[1]), x[2] * y[2]) for y in matrix2 if x[1] == y[0]]). \\\n",
    "    reduceByKey(lambda x, y: x + y)\n",
    "\n",
    "\n",
    "# Convert RDD to DataFrame\n",
    "result_df = spark.createDataFrame(result_rdd.map(lambda x: (x[0][0], x[0][1], x[1])), [\"row\", \"col\", \"result\"])\n",
    "\n",
    "# Display the result\n",
    "result_df.show()\n",
    "\n",
    "# Stop SparkSession\n",
    "spark.stop()\n"
   ]
  },
  {
   "cell_type": "code",
   "execution_count": null,
   "id": "bf506f07",
   "metadata": {},
   "outputs": [],
   "source": []
  },
  {
   "cell_type": "code",
   "execution_count": null,
   "id": "7f4bf10c",
   "metadata": {},
   "outputs": [],
   "source": []
  }
 ],
 "metadata": {
  "kernelspec": {
   "display_name": "Python 3 (ipykernel)",
   "language": "python",
   "name": "python3"
  },
  "language_info": {
   "codemirror_mode": {
    "name": "ipython",
    "version": 3
   },
   "file_extension": ".py",
   "mimetype": "text/x-python",
   "name": "python",
   "nbconvert_exporter": "python",
   "pygments_lexer": "ipython3",
   "version": "3.11.2"
  }
 },
 "nbformat": 4,
 "nbformat_minor": 5
}
